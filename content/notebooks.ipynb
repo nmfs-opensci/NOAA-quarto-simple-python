{
 "cells": [
  {
   "cell_type": "raw",
   "metadata": {},
   "source": [
    "---\n",
    "title: Jupyter Notebook\n",
    "execute:\n",
    "  enabled: true\n",
    "jupyter: python3\n",
    "---"
   ]
  },
  {
   "cell_type": "markdown",
   "metadata": {},
   "source": [
    "# Jupyter Notebook files\n",
    "\n",
    "You can create content with Jupyter notebooks.\n",
    "\n",
    "## A plot\n"
   ]
  },
  {
   "cell_type": "code",
   "execution_count": null,
   "metadata": {
    "tags": [
     "hide-input"
    ]
   },
   "outputs": [],
   "source": [
    "import numpy as np\n",
    "import matplotlib.pyplot as plt\n",
    "r = np.arange(0, 2, 0.01)\n",
    "theta = 2 * np.pi * r\n",
    "fig, ax = plt.subplots(subplot_kw={'projection': 'polar'})\n",
    "ax.plot(theta, r)\n",
    "ax.set_rticks([0.5, 1, 1.5, 2])\n",
    "ax.grid(True)\n",
    "plt.show()"
   ]
  },
  {
   "cell_type": "markdown",
   "metadata": {},
   "source": [
    "## Interactive outputs\n",
    "\n",
    "Below we'll display a map\n",
    "using [folium](https://python-visualization.github.io/folium/). When your book is built,\n",
    "the code for creating the interactive map is retained."
   ]
  },
  {
   "cell_type": "code",
   "execution_count": null,
   "metadata": {},
   "outputs": [],
   "source": [
    "import folium\n",
    "m = folium.Map(\n",
    "    location=[45.372, -121.6972],\n",
    "    zoom_start=12,\n",
    "    tiles='Stamen Terrain'\n",
    ")\n",
    "\n",
    "folium.Marker(\n",
    "    location=[45.3288, -121.6625],\n",
    "    popup='Mt. Hood Meadows',\n",
    "    icon=folium.Icon(icon='cloud')\n",
    ").add_to(m)\n",
    "\n",
    "folium.Marker(\n",
    "    location=[45.3311, -121.7113],\n",
    "    popup='Timberline Lodge',\n",
    "    icon=folium.Icon(color='green')\n",
    ").add_to(m)\n",
    "\n",
    "folium.Marker(\n",
    "    location=[45.3300, -121.6823],\n",
    "    popup='Some Other Location',\n",
    "    icon=folium.Icon(color='red', icon='info-sign')\n",
    ").add_to(m)\n",
    "\n",
    "m"
   ]
  }
 ],
 "metadata": {
  "kernelspec": {
   "display_name": "Python 3 (ipykernel)",
   "language": "python",
   "name": "python3"
  },
  "language_info": {
   "codemirror_mode": {
    "name": "ipython",
    "version": 3
   },
   "file_extension": ".py",
   "mimetype": "text/x-python",
   "name": "python",
   "nbconvert_exporter": "python",
   "pygments_lexer": "ipython3",
   "version": "3.9.12"
  },
  "toc": {
   "base_numbering": 1,
   "nav_menu": {},
   "number_sections": false,
   "sideBar": true,
   "skip_h1_title": false,
   "title_cell": "Table of Contents",
   "title_sidebar": "Contents",
   "toc_cell": false,
   "toc_position": {},
   "toc_section_display": true,
   "toc_window_display": false
  }
 },
 "nbformat": 4,
 "nbformat_minor": 4
}
